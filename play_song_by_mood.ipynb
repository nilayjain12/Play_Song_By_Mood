{
 "cells": [
  {
   "cell_type": "markdown",
   "metadata": {},
   "source": [
    "### **Importing Required Libraries**"
   ]
  },
  {
   "cell_type": "code",
   "execution_count": 165,
   "metadata": {},
   "outputs": [],
   "source": [
    "import numpy as np\n",
    "import matplotlib.pyplot as plt\n",
    "import csv\n",
    "import tensorflow as tf\n",
    "import pandas as pd\n",
    "import seaborn as sns\n",
    "from sklearn.model_selection import train_test_split\n",
    "from tensorflow.keras.models import Sequential\n",
    "from tensorflow.keras.layers import Dense, Dropout, Activation, Flatten\n",
    "from tensorflow.keras.layers import Conv2D, MaxPooling2D\n",
    "from sklearn.metrics import accuracy_score\n",
    "import os"
   ]
  },
  {
   "cell_type": "markdown",
   "metadata": {},
   "source": [
    "### **Loading Data From CSV Using Pandas Library**"
   ]
  },
  {
   "cell_type": "code",
   "execution_count": 166,
   "metadata": {},
   "outputs": [
    {
     "data": {
      "text/html": [
       "<div>\n",
       "<style scoped>\n",
       "    .dataframe tbody tr th:only-of-type {\n",
       "        vertical-align: middle;\n",
       "    }\n",
       "\n",
       "    .dataframe tbody tr th {\n",
       "        vertical-align: top;\n",
       "    }\n",
       "\n",
       "    .dataframe thead th {\n",
       "        text-align: right;\n",
       "    }\n",
       "</style>\n",
       "<table border=\"1\" class=\"dataframe\">\n",
       "  <thead>\n",
       "    <tr style=\"text-align: right;\">\n",
       "      <th></th>\n",
       "      <th>name</th>\n",
       "      <th>album</th>\n",
       "      <th>artist</th>\n",
       "      <th>id</th>\n",
       "      <th>release_date</th>\n",
       "      <th>popularity</th>\n",
       "      <th>length</th>\n",
       "      <th>danceability</th>\n",
       "      <th>acousticness</th>\n",
       "      <th>energy</th>\n",
       "      <th>...</th>\n",
       "      <th>liveness</th>\n",
       "      <th>valence</th>\n",
       "      <th>loudness</th>\n",
       "      <th>speechiness</th>\n",
       "      <th>tempo</th>\n",
       "      <th>key</th>\n",
       "      <th>time_signature</th>\n",
       "      <th>mood</th>\n",
       "      <th>mean(d,e,v)</th>\n",
       "      <th>mood_final</th>\n",
       "    </tr>\n",
       "  </thead>\n",
       "  <tbody>\n",
       "    <tr>\n",
       "      <th>0</th>\n",
       "      <td>1999</td>\n",
       "      <td>1999</td>\n",
       "      <td>Prince</td>\n",
       "      <td>2H7PHVdQ3mXqEHXcvclTB0</td>\n",
       "      <td>10/27/1982</td>\n",
       "      <td>68.0</td>\n",
       "      <td>379266.0</td>\n",
       "      <td>0.866</td>\n",
       "      <td>0.13700</td>\n",
       "      <td>0.7300</td>\n",
       "      <td>...</td>\n",
       "      <td>0.0843</td>\n",
       "      <td>0.625</td>\n",
       "      <td>-8.201</td>\n",
       "      <td>0.0767</td>\n",
       "      <td>118.523</td>\n",
       "      <td>5.0</td>\n",
       "      <td>4.0</td>\n",
       "      <td>Happy</td>\n",
       "      <td>0.740333</td>\n",
       "      <td>Pop Chill</td>\n",
       "    </tr>\n",
       "    <tr>\n",
       "      <th>1</th>\n",
       "      <td>23</td>\n",
       "      <td>23</td>\n",
       "      <td>Blonde Redhead</td>\n",
       "      <td>4HIwL9ii9CcXpTOTzMq0MP</td>\n",
       "      <td>4/16/2007</td>\n",
       "      <td>43.0</td>\n",
       "      <td>318800.0</td>\n",
       "      <td>0.381</td>\n",
       "      <td>0.01890</td>\n",
       "      <td>0.8320</td>\n",
       "      <td>...</td>\n",
       "      <td>0.1530</td>\n",
       "      <td>0.166</td>\n",
       "      <td>-5.069</td>\n",
       "      <td>0.0492</td>\n",
       "      <td>120.255</td>\n",
       "      <td>8.0</td>\n",
       "      <td>4.0</td>\n",
       "      <td>Happy</td>\n",
       "      <td>0.459667</td>\n",
       "      <td>Chill</td>\n",
       "    </tr>\n",
       "    <tr>\n",
       "      <th>2</th>\n",
       "      <td>9 Crimes</td>\n",
       "      <td>9</td>\n",
       "      <td>Damien Rice</td>\n",
       "      <td>5GZEeowhvSieFDiR8fQ2im</td>\n",
       "      <td>11/6/2006</td>\n",
       "      <td>60.0</td>\n",
       "      <td>217946.0</td>\n",
       "      <td>0.346</td>\n",
       "      <td>0.91300</td>\n",
       "      <td>0.1390</td>\n",
       "      <td>...</td>\n",
       "      <td>0.0934</td>\n",
       "      <td>0.116</td>\n",
       "      <td>-15.326</td>\n",
       "      <td>0.0321</td>\n",
       "      <td>136.168</td>\n",
       "      <td>0.0</td>\n",
       "      <td>4.0</td>\n",
       "      <td>Sad</td>\n",
       "      <td>0.200333</td>\n",
       "      <td>Lofi</td>\n",
       "    </tr>\n",
       "    <tr>\n",
       "      <th>3</th>\n",
       "      <td>99 Luftballons</td>\n",
       "      <td>99 Luftballons</td>\n",
       "      <td>Nena</td>\n",
       "      <td>6HA97v4wEGQ5TUClRM0XLc</td>\n",
       "      <td>8/21/1984</td>\n",
       "      <td>2.0</td>\n",
       "      <td>233000.0</td>\n",
       "      <td>0.466</td>\n",
       "      <td>0.08900</td>\n",
       "      <td>0.4380</td>\n",
       "      <td>...</td>\n",
       "      <td>0.1130</td>\n",
       "      <td>0.587</td>\n",
       "      <td>-12.858</td>\n",
       "      <td>0.0608</td>\n",
       "      <td>193.100</td>\n",
       "      <td>4.0</td>\n",
       "      <td>4.0</td>\n",
       "      <td>Happy</td>\n",
       "      <td>0.497000</td>\n",
       "      <td>Chill</td>\n",
       "    </tr>\n",
       "    <tr>\n",
       "      <th>4</th>\n",
       "      <td>A Boy Brushed Red Living In Black And White</td>\n",
       "      <td>They're Only Chasing Safety</td>\n",
       "      <td>Underoath</td>\n",
       "      <td>47IWLfIKOKhFnz1FUEUIkE</td>\n",
       "      <td>1/1/2004</td>\n",
       "      <td>60.0</td>\n",
       "      <td>268000.0</td>\n",
       "      <td>0.419</td>\n",
       "      <td>0.00171</td>\n",
       "      <td>0.9320</td>\n",
       "      <td>...</td>\n",
       "      <td>0.1370</td>\n",
       "      <td>0.445</td>\n",
       "      <td>-3.604</td>\n",
       "      <td>0.1060</td>\n",
       "      <td>169.881</td>\n",
       "      <td>1.0</td>\n",
       "      <td>4.0</td>\n",
       "      <td>Happy</td>\n",
       "      <td>0.598667</td>\n",
       "      <td>Pop Chill</td>\n",
       "    </tr>\n",
       "    <tr>\n",
       "      <th>5</th>\n",
       "      <td>A Burden to Bear</td>\n",
       "      <td>A Burden to Bear</td>\n",
       "      <td>Emmanuelle Rimbaud</td>\n",
       "      <td>67DOFCrkcQaLp5yhzF8Y8N</td>\n",
       "      <td>7/31/2020</td>\n",
       "      <td>27.0</td>\n",
       "      <td>129410.0</td>\n",
       "      <td>0.394</td>\n",
       "      <td>0.99500</td>\n",
       "      <td>0.0475</td>\n",
       "      <td>...</td>\n",
       "      <td>0.1050</td>\n",
       "      <td>0.172</td>\n",
       "      <td>-26.432</td>\n",
       "      <td>0.0720</td>\n",
       "      <td>71.241</td>\n",
       "      <td>6.0</td>\n",
       "      <td>5.0</td>\n",
       "      <td>Sad</td>\n",
       "      <td>0.204500</td>\n",
       "      <td>Lofi</td>\n",
       "    </tr>\n",
       "  </tbody>\n",
       "</table>\n",
       "<p>6 rows × 21 columns</p>\n",
       "</div>"
      ],
      "text/plain": [
       "                                          name                        album  \\\n",
       "0                                         1999                         1999   \n",
       "1                                           23                           23   \n",
       "2                                     9 Crimes                            9   \n",
       "3                               99 Luftballons               99 Luftballons   \n",
       "4  A Boy Brushed Red Living In Black And White  They're Only Chasing Safety   \n",
       "5                             A Burden to Bear             A Burden to Bear   \n",
       "\n",
       "               artist                      id release_date  popularity  \\\n",
       "0              Prince  2H7PHVdQ3mXqEHXcvclTB0   10/27/1982        68.0   \n",
       "1      Blonde Redhead  4HIwL9ii9CcXpTOTzMq0MP    4/16/2007        43.0   \n",
       "2         Damien Rice  5GZEeowhvSieFDiR8fQ2im    11/6/2006        60.0   \n",
       "3                Nena  6HA97v4wEGQ5TUClRM0XLc    8/21/1984         2.0   \n",
       "4           Underoath  47IWLfIKOKhFnz1FUEUIkE     1/1/2004        60.0   \n",
       "5  Emmanuelle Rimbaud  67DOFCrkcQaLp5yhzF8Y8N    7/31/2020        27.0   \n",
       "\n",
       "     length  danceability  acousticness  energy  ...  liveness  valence  \\\n",
       "0  379266.0         0.866       0.13700  0.7300  ...    0.0843    0.625   \n",
       "1  318800.0         0.381       0.01890  0.8320  ...    0.1530    0.166   \n",
       "2  217946.0         0.346       0.91300  0.1390  ...    0.0934    0.116   \n",
       "3  233000.0         0.466       0.08900  0.4380  ...    0.1130    0.587   \n",
       "4  268000.0         0.419       0.00171  0.9320  ...    0.1370    0.445   \n",
       "5  129410.0         0.394       0.99500  0.0475  ...    0.1050    0.172   \n",
       "\n",
       "   loudness  speechiness    tempo  key  time_signature   mood mean(d,e,v)  \\\n",
       "0    -8.201       0.0767  118.523  5.0             4.0  Happy    0.740333   \n",
       "1    -5.069       0.0492  120.255  8.0             4.0  Happy    0.459667   \n",
       "2   -15.326       0.0321  136.168  0.0             4.0    Sad    0.200333   \n",
       "3   -12.858       0.0608  193.100  4.0             4.0  Happy    0.497000   \n",
       "4    -3.604       0.1060  169.881  1.0             4.0  Happy    0.598667   \n",
       "5   -26.432       0.0720   71.241  6.0             5.0    Sad    0.204500   \n",
       "\n",
       "   mood_final  \n",
       "0   Pop Chill  \n",
       "1       Chill  \n",
       "2        Lofi  \n",
       "3       Chill  \n",
       "4   Pop Chill  \n",
       "5        Lofi  \n",
       "\n",
       "[6 rows x 21 columns]"
      ]
     },
     "execution_count": 166,
     "metadata": {},
     "output_type": "execute_result"
    }
   ],
   "source": [
    "data_frame = pd.read_csv(r'C:\\Users\\14089\\Desktop\\NILAY JAIN\\Personal Projects\\Play_Song_By_Mood\\Extra Stuff\\data_moods.csv')\n",
    "\n",
    "data_frame.head(6)"
   ]
  },
  {
   "cell_type": "code",
   "execution_count": 167,
   "metadata": {},
   "outputs": [
    {
     "data": {
      "image/png": "[encoded data removed]",
      "text/plain": [
       "<Figure size 640x480 with 1 Axes>"
      ]
     },
     "metadata": {},
     "output_type": "display_data"
    }
   ],
   "source": [
    "sns.countplot(x='mood_final', data=data_frame)\n",
    "\n",
    "# Add labels and show the plot\n",
    "plt.xlabel('Mood')\n",
    "plt.ylabel('Count')\n",
    "plt.title('Count of Songs by Mood')\n",
    "plt.show()"
   ]
  },
  {
   "cell_type": "markdown",
   "metadata": {},
   "source": [
    "### **Scaling/Normalizing The Data Frame To Remove Exploding Values**"
   ]
  },
  {
   "cell_type": "code",
   "execution_count": 168,
   "metadata": {},
   "outputs": [
    {
     "data": {
      "text/plain": [
       "217.95"
      ]
     },
     "execution_count": 168,
     "metadata": {},
     "output_type": "execute_result"
    }
   ],
   "source": [
    "max_tempo = max(data_frame['tempo'])\n",
    "max_tempo"
   ]
  },
  {
   "cell_type": "code",
   "execution_count": 169,
   "metadata": {},
   "outputs": [
    {
     "data": {
      "text/plain": [
       "-42.018"
      ]
     },
     "execution_count": 169,
     "metadata": {},
     "output_type": "execute_result"
    }
   ],
   "source": [
    "min_loudness = min(data_frame['loudness'])\n",
    "min_loudness"
   ]
  },
  {
   "cell_type": "code",
   "execution_count": 170,
   "metadata": {},
   "outputs": [],
   "source": [
    "# scaling the \"key\" column b/w -1 to +1\n",
    "data_frame['key'] = data_frame['key'] / max(data_frame['key'])\n",
    "\n",
    "# scaling the \"loudness\" column b/w -1 to +1\n",
    "data_frame['loudness'] = data_frame['loudness'] / min(data_frame['loudness'])\n",
    "\n",
    "# scaling the \"duration_ms\" column b/w -1 to +1\n",
    "data_frame['length'] = data_frame['length'] / max(data_frame['length'])\n",
    "\n",
    "# scaling the \"time_signature\" column b/w -1 to +1\n",
    "data_frame['time_signature'] = data_frame['time_signature'] / max(data_frame['time_signature'])\n",
    "\n",
    "# # labeling the mood as 0 or 1 for easy calculation and prediction\n",
    "data_frame['mood_final'] = data_frame['mood_final'].map({'Pop Chill': 0, 'Chill': 1, 'Lofi':2, 'Hard Rock':3})\n",
    "\n",
    "# scaling the \"popularity\" column b/w -1 to +1\n",
    "data_frame['popularity'] = data_frame['popularity'] / max(data_frame['popularity'])\n",
    "\n",
    "# scaling the \"tempo\" column b/w -1 to +1\n",
    "data_frame['tempo'] = data_frame['tempo'] / max(data_frame['tempo'])"
   ]
  },
  {
   "cell_type": "markdown",
   "metadata": {},
   "source": [
    "### **Visualizing Data Frame After Normalized Data**"
   ]
  },
  {
   "cell_type": "code",
   "execution_count": 171,
   "metadata": {},
   "outputs": [
    {
     "data": {
      "text/html": [
       "<div>\n",
       "<style scoped>\n",
       "    .dataframe tbody tr th:only-of-type {\n",
       "        vertical-align: middle;\n",
       "    }\n",
       "\n",
       "    .dataframe tbody tr th {\n",
       "        vertical-align: top;\n",
       "    }\n",
       "\n",
       "    .dataframe thead th {\n",
       "        text-align: right;\n",
       "    }\n",
       "</style>\n",
       "<table border=\"1\" class=\"dataframe\">\n",
       "  <thead>\n",
       "    <tr style=\"text-align: right;\">\n",
       "      <th></th>\n",
       "      <th>name</th>\n",
       "      <th>album</th>\n",
       "      <th>artist</th>\n",
       "      <th>id</th>\n",
       "      <th>release_date</th>\n",
       "      <th>popularity</th>\n",
       "      <th>length</th>\n",
       "      <th>danceability</th>\n",
       "      <th>acousticness</th>\n",
       "      <th>energy</th>\n",
       "      <th>...</th>\n",
       "      <th>liveness</th>\n",
       "      <th>valence</th>\n",
       "      <th>loudness</th>\n",
       "      <th>speechiness</th>\n",
       "      <th>tempo</th>\n",
       "      <th>key</th>\n",
       "      <th>time_signature</th>\n",
       "      <th>mood</th>\n",
       "      <th>mean(d,e,v)</th>\n",
       "      <th>mood_final</th>\n",
       "    </tr>\n",
       "  </thead>\n",
       "  <tbody>\n",
       "    <tr>\n",
       "      <th>856</th>\n",
       "      <td>Yaar Ka Sataya Hua Hai B Praak</td>\n",
       "      <td>NaN</td>\n",
       "      <td>NaN</td>\n",
       "      <td>NaN</td>\n",
       "      <td>NaN</td>\n",
       "      <td>NaN</td>\n",
       "      <td>NaN</td>\n",
       "      <td>0.728</td>\n",
       "      <td>0.271</td>\n",
       "      <td>0.734</td>\n",
       "      <td>...</td>\n",
       "      <td>0.0788</td>\n",
       "      <td>0.523</td>\n",
       "      <td>0.101195</td>\n",
       "      <td>0.0449</td>\n",
       "      <td>0.596531</td>\n",
       "      <td>NaN</td>\n",
       "      <td>NaN</td>\n",
       "      <td>Happy</td>\n",
       "      <td>0.661667</td>\n",
       "      <td>3</td>\n",
       "    </tr>\n",
       "    <tr>\n",
       "      <th>857</th>\n",
       "      <td>Yaar Ka Sataya Hua Hai Zohrajabeen</td>\n",
       "      <td>NaN</td>\n",
       "      <td>NaN</td>\n",
       "      <td>NaN</td>\n",
       "      <td>NaN</td>\n",
       "      <td>NaN</td>\n",
       "      <td>NaN</td>\n",
       "      <td>0.728</td>\n",
       "      <td>0.271</td>\n",
       "      <td>0.734</td>\n",
       "      <td>...</td>\n",
       "      <td>0.0788</td>\n",
       "      <td>0.523</td>\n",
       "      <td>0.101195</td>\n",
       "      <td>0.0449</td>\n",
       "      <td>0.596531</td>\n",
       "      <td>NaN</td>\n",
       "      <td>NaN</td>\n",
       "      <td>Happy</td>\n",
       "      <td>0.661667</td>\n",
       "      <td>3</td>\n",
       "    </tr>\n",
       "    <tr>\n",
       "      <th>858</th>\n",
       "      <td>Yaara Vikram Vedha</td>\n",
       "      <td>NaN</td>\n",
       "      <td>NaN</td>\n",
       "      <td>NaN</td>\n",
       "      <td>NaN</td>\n",
       "      <td>NaN</td>\n",
       "      <td>NaN</td>\n",
       "      <td>0.220</td>\n",
       "      <td>0.715</td>\n",
       "      <td>0.433</td>\n",
       "      <td>...</td>\n",
       "      <td>0.1290</td>\n",
       "      <td>0.220</td>\n",
       "      <td>0.215979</td>\n",
       "      <td>0.0323</td>\n",
       "      <td>0.367075</td>\n",
       "      <td>NaN</td>\n",
       "      <td>NaN</td>\n",
       "      <td>Sad</td>\n",
       "      <td>0.291000</td>\n",
       "      <td>2</td>\n",
       "    </tr>\n",
       "    <tr>\n",
       "      <th>859</th>\n",
       "      <td>Yeh Nazar</td>\n",
       "      <td>NaN</td>\n",
       "      <td>NaN</td>\n",
       "      <td>NaN</td>\n",
       "      <td>NaN</td>\n",
       "      <td>NaN</td>\n",
       "      <td>NaN</td>\n",
       "      <td>0.498</td>\n",
       "      <td>0.488</td>\n",
       "      <td>0.705</td>\n",
       "      <td>...</td>\n",
       "      <td>0.1130</td>\n",
       "      <td>0.962</td>\n",
       "      <td>0.164977</td>\n",
       "      <td>0.0773</td>\n",
       "      <td>0.811292</td>\n",
       "      <td>NaN</td>\n",
       "      <td>NaN</td>\n",
       "      <td>Happy</td>\n",
       "      <td>0.721667</td>\n",
       "      <td>3</td>\n",
       "    </tr>\n",
       "    <tr>\n",
       "      <th>860</th>\n",
       "      <td>Zikr Tera Sumit Goswami</td>\n",
       "      <td>NaN</td>\n",
       "      <td>NaN</td>\n",
       "      <td>NaN</td>\n",
       "      <td>NaN</td>\n",
       "      <td>NaN</td>\n",
       "      <td>NaN</td>\n",
       "      <td>0.481</td>\n",
       "      <td>0.551</td>\n",
       "      <td>0.546</td>\n",
       "      <td>...</td>\n",
       "      <td>0.2660</td>\n",
       "      <td>0.480</td>\n",
       "      <td>0.106502</td>\n",
       "      <td>0.0466</td>\n",
       "      <td>0.382964</td>\n",
       "      <td>NaN</td>\n",
       "      <td>NaN</td>\n",
       "      <td>Sad</td>\n",
       "      <td>0.502333</td>\n",
       "      <td>0</td>\n",
       "    </tr>\n",
       "  </tbody>\n",
       "</table>\n",
       "<p>5 rows × 21 columns</p>\n",
       "</div>"
      ],
      "text/plain": [
       "                                   name album artist   id release_date  \\\n",
       "856      Yaar Ka Sataya Hua Hai B Praak   NaN    NaN  NaN          NaN   \n",
       "857  Yaar Ka Sataya Hua Hai Zohrajabeen   NaN    NaN  NaN          NaN   \n",
       "858                  Yaara Vikram Vedha   NaN    NaN  NaN          NaN   \n",
       "859                           Yeh Nazar   NaN    NaN  NaN          NaN   \n",
       "860             Zikr Tera Sumit Goswami   NaN    NaN  NaN          NaN   \n",
       "\n",
       "     popularity  length  danceability  acousticness  energy  ...  liveness  \\\n",
       "856         NaN     NaN         0.728         0.271   0.734  ...    0.0788   \n",
       "857         NaN     NaN         0.728         0.271   0.734  ...    0.0788   \n",
       "858         NaN     NaN         0.220         0.715   0.433  ...    0.1290   \n",
       "859         NaN     NaN         0.498         0.488   0.705  ...    0.1130   \n",
       "860         NaN     NaN         0.481         0.551   0.546  ...    0.2660   \n",
       "\n",
       "     valence  loudness  speechiness     tempo  key  time_signature   mood  \\\n",
       "856    0.523  0.101195       0.0449  0.596531  NaN             NaN  Happy   \n",
       "857    0.523  0.101195       0.0449  0.596531  NaN             NaN  Happy   \n",
       "858    0.220  0.215979       0.0323  0.367075  NaN             NaN    Sad   \n",
       "859    0.962  0.164977       0.0773  0.811292  NaN             NaN  Happy   \n",
       "860    0.480  0.106502       0.0466  0.382964  NaN             NaN    Sad   \n",
       "\n",
       "    mean(d,e,v)  mood_final  \n",
       "856    0.661667           3  \n",
       "857    0.661667           3  \n",
       "858    0.291000           2  \n",
       "859    0.721667           3  \n",
       "860    0.502333           0  \n",
       "\n",
       "[5 rows x 21 columns]"
      ]
     },
     "execution_count": 171,
     "metadata": {},
     "output_type": "execute_result"
    }
   ],
   "source": [
    "data_frame.tail(5)"
   ]
  },
  {
   "cell_type": "markdown",
   "metadata": {},
   "source": [
    "### **Splitting The Data Frame In X and y. i.e., Training and Test Data**"
   ]
  },
  {
   "cell_type": "code",
   "execution_count": 172,
   "metadata": {},
   "outputs": [],
   "source": [
    "# determining the features and the target values.\n",
    "\n",
    "#\"acousticness\", \"liveness\", \"loudness\", \"speechiness\", \"tempo\", \"key\", \"time_signature\", \"danceability\", \"energy\", \"valence\"\n",
    "X = np.array(data_frame.drop(columns=[\"mood\", \"mean(d,e,v)\", \"mood_final\", \"name\", \"album\", \"artist\", \"id\", \"release_date\", \"popularity\", \"length\", \"instrumentalness\", \"time_signature\", \"key\"]))\n",
    "y = np.array(data_frame[\"mood_final\"])\n",
    "\n",
    "# splitting the dataset into training (80%) and testing (20%)\n",
    "from sklearn.model_selection import train_test_split\n",
    "X_train, X_test, y_train, y_test = train_test_split(X, y, random_state=42, test_size=0.2)"
   ]
  },
  {
   "cell_type": "code",
   "execution_count": 173,
   "metadata": {},
   "outputs": [
    {
     "data": {
      "text/plain": [
       "(688, 8)"
      ]
     },
     "execution_count": 173,
     "metadata": {},
     "output_type": "execute_result"
    }
   ],
   "source": [
    "X_train.shape"
   ]
  },
  {
   "cell_type": "markdown",
   "metadata": {},
   "source": [
    "### **Plotting The Values For Better Visualization**"
   ]
  },
  {
   "cell_type": "code",
   "execution_count": 174,
   "metadata": {},
   "outputs": [
    {
     "data": {
      "text/plain": [
       "<matplotlib.collections.PathCollection at 0x1e0621c4790>"
      ]
     },
     "execution_count": 174,
     "metadata": {},
     "output_type": "execute_result"
    },
    {
     "data": {
      "image/png": "[encoded data removed]",
      "text/plain": [
       "<Figure size 640x480 with 1 Axes>"
      ]
     },
     "metadata": {},
     "output_type": "display_data"
    }
   ],
   "source": [
    "plt.scatter(data_frame['danceability'], data_frame['mood_final'])"
   ]
  },
  {
   "cell_type": "code",
   "execution_count": 175,
   "metadata": {},
   "outputs": [
    {
     "data": {
      "text/plain": [
       "<matplotlib.collections.PathCollection at 0x1e069bfac80>"
      ]
     },
     "execution_count": 175,
     "metadata": {},
     "output_type": "execute_result"
    },
    {
     "data": {
      "image/png": "[encoded data removed]",
      "text/plain": [
       "<Figure size 640x480 with 1 Axes>"
      ]
     },
     "metadata": {},
     "output_type": "display_data"
    }
   ],
   "source": [
    "plt.scatter(data_frame['energy'], data_frame['mood_final'])"
   ]
  },
  {
   "cell_type": "code",
   "execution_count": 176,
   "metadata": {},
   "outputs": [
    {
     "data": {
      "text/plain": [
       "<matplotlib.collections.PathCollection at 0x1e06529d720>"
      ]
     },
     "execution_count": 176,
     "metadata": {},
     "output_type": "execute_result"
    },
    {
     "data": {
      "image/png": "[encoded data removed]",
      "text/plain": [
       "<Figure size 640x480 with 1 Axes>"
      ]
     },
     "metadata": {},
     "output_type": "display_data"
    }
   ],
   "source": [
    "plt.scatter(data_frame['valence'], data_frame['mood_final'])"
   ]
  },
  {
   "cell_type": "code",
   "execution_count": 177,
   "metadata": {},
   "outputs": [
    {
     "data": {
      "text/plain": [
       "(688, 8)"
      ]
     },
     "execution_count": 177,
     "metadata": {},
     "output_type": "execute_result"
    }
   ],
   "source": [
    "X_train.shape"
   ]
  },
  {
   "cell_type": "markdown",
   "metadata": {},
   "source": [
    "### **Designing The Model Architechture**"
   ]
  },
  {
   "cell_type": "markdown",
   "metadata": {},
   "source": [
    "#### **Architecture 1: (Neural Network From Scratch)**"
   ]
  },
  {
   "cell_type": "markdown",
   "metadata": {},
   "source": [
    "##### **Importing Required Libraries**"
   ]
  },
  {
   "cell_type": "code",
   "execution_count": 178,
   "metadata": {},
   "outputs": [],
   "source": [
    "from keras.models import Sequential\n",
    "from keras.layers import Dense, Dropout\n",
    "from keras.optimizers import Adam\n",
    "from keras import regularizers\n",
    "opt = Adam(learning_rate=0.001)\n",
    "from tensorflow.keras.losses import MeanSquaredError\n",
    "from tensorflow.keras import optimizers\n",
    "from tensorflow.keras.losses import SparseCategoricalCrossentropy"
   ]
  },
  {
   "cell_type": "markdown",
   "metadata": {},
   "source": [
    "##### **Creating Model Architecture & Model Fitting**"
   ]
  },
  {
   "cell_type": "code",
   "execution_count": 179,
   "metadata": {},
   "outputs": [],
   "source": [
    "model = Sequential()\n",
    "model.add(Dense(128, activation=\"relu\", input_shape=(8, )))\n",
    "model.add(Dropout(0.2))\n",
    "model.add(Dense(256, kernel_regularizer=regularizers.l2(0.01)))\n",
    "model.add(Dropout(0.2))\n",
    "model.add(Dense(128, activation=\"relu\"))\n",
    "model.add(Dropout(0.2))\n",
    "model.add(Dense(4, activation=\"sigmoid\"))"
   ]
  },
  {
   "cell_type": "code",
   "execution_count": 180,
   "metadata": {},
   "outputs": [],
   "source": [
    "# model.compile(optimizer='adam', loss=\"sparcecategorical_crossentropy\", metrics=[\"accuracy\"])\n",
    "model.compile(optimizer=optimizers.Adam(), loss=SparseCategoricalCrossentropy(), metrics=[\"accuracy\"])"
   ]
  },
  {
   "cell_type": "code",
   "execution_count": 181,
   "metadata": {},
   "outputs": [
    {
     "name": "stdout",
     "output_type": "stream",
     "text": [
      "Epoch 1/100\n",
      "18/18 [==============================] - 3s 30ms/step - loss: 2.6472 - accuracy: 0.5218 - val_loss: 2.2403 - val_accuracy: 0.6449\n",
      "Epoch 2/100\n",
      "18/18 [==============================] - 0s 8ms/step - loss: 1.9192 - accuracy: 0.6309 - val_loss: 1.6536 - val_accuracy: 0.6304\n",
      "Epoch 3/100\n",
      "18/18 [==============================] - 0s 7ms/step - loss: 1.4658 - accuracy: 0.7055 - val_loss: 1.3407 - val_accuracy: 0.6449\n",
      "Epoch 4/100\n",
      "18/18 [==============================] - 0s 7ms/step - loss: 1.1817 - accuracy: 0.7455 - val_loss: 1.0840 - val_accuracy: 0.7246\n",
      "Epoch 5/100\n",
      "18/18 [==============================] - 0s 7ms/step - loss: 0.9651 - accuracy: 0.7891 - val_loss: 0.8546 - val_accuracy: 0.8188\n",
      "Epoch 6/100\n",
      "18/18 [==============================] - 0s 8ms/step - loss: 0.7978 - accuracy: 0.8036 - val_loss: 0.7308 - val_accuracy: 0.8261\n",
      "Epoch 7/100\n",
      "18/18 [==============================] - 0s 11ms/step - loss: 0.7130 - accuracy: 0.8345 - val_loss: 0.6894 - val_accuracy: 0.7971\n",
      "Epoch 8/100\n",
      "18/18 [==============================] - 0s 9ms/step - loss: 0.6489 - accuracy: 0.8145 - val_loss: 0.5734 - val_accuracy: 0.8768\n",
      "Epoch 9/100\n",
      "18/18 [==============================] - 0s 7ms/step - loss: 0.6244 - accuracy: 0.8200 - val_loss: 0.5439 - val_accuracy: 0.8623\n",
      "Epoch 10/100\n",
      "18/18 [==============================] - 0s 7ms/step - loss: 0.5619 - accuracy: 0.8309 - val_loss: 0.5210 - val_accuracy: 0.8551\n",
      "Epoch 11/100\n",
      "18/18 [==============================] - 0s 7ms/step - loss: 0.5237 - accuracy: 0.8491 - val_loss: 0.4802 - val_accuracy: 0.8551\n",
      "Epoch 12/100\n",
      "18/18 [==============================] - 0s 8ms/step - loss: 0.4971 - accuracy: 0.8527 - val_loss: 0.4470 - val_accuracy: 0.9058\n",
      "Epoch 13/100\n",
      "18/18 [==============================] - 0s 7ms/step - loss: 0.4906 - accuracy: 0.8473 - val_loss: 0.4148 - val_accuracy: 0.9203\n",
      "Epoch 14/100\n",
      "18/18 [==============================] - 0s 7ms/step - loss: 0.4363 - accuracy: 0.8764 - val_loss: 0.4018 - val_accuracy: 0.9130\n",
      "Epoch 15/100\n",
      "18/18 [==============================] - 0s 7ms/step - loss: 0.4573 - accuracy: 0.8618 - val_loss: 0.3889 - val_accuracy: 0.8913\n",
      "Epoch 16/100\n",
      "18/18 [==============================] - 0s 7ms/step - loss: 0.4380 - accuracy: 0.8473 - val_loss: 0.4413 - val_accuracy: 0.8551\n",
      "Epoch 17/100\n",
      "18/18 [==============================] - 0s 7ms/step - loss: 0.4454 - accuracy: 0.8418 - val_loss: 0.4058 - val_accuracy: 0.8478\n",
      "Epoch 18/100\n",
      "18/18 [==============================] - 0s 7ms/step - loss: 0.3837 - accuracy: 0.8727 - val_loss: 0.3420 - val_accuracy: 0.9493\n",
      "Epoch 19/100\n",
      "18/18 [==============================] - 0s 7ms/step - loss: 0.3879 - accuracy: 0.8691 - val_loss: 0.3351 - val_accuracy: 0.9275\n",
      "Epoch 20/100\n",
      "18/18 [==============================] - 0s 8ms/step - loss: 0.3953 - accuracy: 0.8673 - val_loss: 0.3159 - val_accuracy: 0.9275\n",
      "Epoch 21/100\n",
      "18/18 [==============================] - 0s 7ms/step - loss: 0.3706 - accuracy: 0.8745 - val_loss: 0.3445 - val_accuracy: 0.9058\n",
      "Epoch 22/100\n",
      "18/18 [==============================] - 0s 7ms/step - loss: 0.3866 - accuracy: 0.8782 - val_loss: 0.3251 - val_accuracy: 0.8913\n",
      "Epoch 23/100\n",
      "18/18 [==============================] - 0s 7ms/step - loss: 0.3592 - accuracy: 0.8855 - val_loss: 0.2955 - val_accuracy: 0.9493\n",
      "Epoch 24/100\n",
      "18/18 [==============================] - 0s 9ms/step - loss: 0.3565 - accuracy: 0.8873 - val_loss: 0.3335 - val_accuracy: 0.9058\n",
      "Epoch 25/100\n",
      "18/18 [==============================] - 0s 7ms/step - loss: 0.3298 - accuracy: 0.9000 - val_loss: 0.3371 - val_accuracy: 0.8841\n",
      "Epoch 26/100\n",
      "18/18 [==============================] - 0s 7ms/step - loss: 0.3506 - accuracy: 0.8636 - val_loss: 0.2897 - val_accuracy: 0.9420\n",
      "Epoch 27/100\n",
      "18/18 [==============================] - 0s 8ms/step - loss: 0.3708 - accuracy: 0.8691 - val_loss: 0.2683 - val_accuracy: 0.9565\n",
      "Epoch 28/100\n",
      "18/18 [==============================] - 0s 8ms/step - loss: 0.3113 - accuracy: 0.9000 - val_loss: 0.3087 - val_accuracy: 0.8768\n",
      "Epoch 29/100\n",
      "18/18 [==============================] - 0s 7ms/step - loss: 0.3668 - accuracy: 0.8709 - val_loss: 0.2673 - val_accuracy: 0.9420\n",
      "Epoch 30/100\n",
      "18/18 [==============================] - 0s 7ms/step - loss: 0.3657 - accuracy: 0.8818 - val_loss: 0.2660 - val_accuracy: 0.9638\n",
      "Epoch 31/100\n",
      "18/18 [==============================] - 0s 7ms/step - loss: 0.3697 - accuracy: 0.8691 - val_loss: 0.3160 - val_accuracy: 0.9058\n",
      "Epoch 32/100\n",
      "18/18 [==============================] - 0s 8ms/step - loss: 0.3312 - accuracy: 0.8836 - val_loss: 0.2577 - val_accuracy: 0.9638\n",
      "Epoch 33/100\n",
      "18/18 [==============================] - 0s 9ms/step - loss: 0.2929 - accuracy: 0.9091 - val_loss: 0.2413 - val_accuracy: 0.9710\n",
      "Epoch 34/100\n",
      "18/18 [==============================] - 0s 8ms/step - loss: 0.2858 - accuracy: 0.9091 - val_loss: 0.2446 - val_accuracy: 0.9638\n",
      "Epoch 35/100\n",
      "18/18 [==============================] - 0s 7ms/step - loss: 0.2772 - accuracy: 0.9018 - val_loss: 0.2344 - val_accuracy: 0.9565\n",
      "Epoch 36/100\n",
      "18/18 [==============================] - 0s 7ms/step - loss: 0.3036 - accuracy: 0.8855 - val_loss: 0.3230 - val_accuracy: 0.8551\n",
      "Epoch 37/100\n",
      "18/18 [==============================] - 0s 7ms/step - loss: 0.2884 - accuracy: 0.8982 - val_loss: 0.2272 - val_accuracy: 0.9565\n",
      "Epoch 38/100\n",
      "18/18 [==============================] - 0s 7ms/step - loss: 0.2776 - accuracy: 0.9018 - val_loss: 0.2225 - val_accuracy: 0.9783\n",
      "Epoch 39/100\n",
      "18/18 [==============================] - 0s 8ms/step - loss: 0.2934 - accuracy: 0.9000 - val_loss: 0.2536 - val_accuracy: 0.9275\n",
      "Epoch 40/100\n",
      "18/18 [==============================] - 0s 7ms/step - loss: 0.2637 - accuracy: 0.9218 - val_loss: 0.2108 - val_accuracy: 0.9638\n",
      "Epoch 41/100\n",
      "18/18 [==============================] - 0s 7ms/step - loss: 0.2963 - accuracy: 0.8927 - val_loss: 0.2162 - val_accuracy: 0.9783\n",
      "Epoch 42/100\n",
      "18/18 [==============================] - 0s 10ms/step - loss: 0.3187 - accuracy: 0.8909 - val_loss: 0.2109 - val_accuracy: 0.9783\n",
      "Epoch 43/100\n",
      "18/18 [==============================] - 0s 7ms/step - loss: 0.2931 - accuracy: 0.8891 - val_loss: 0.2155 - val_accuracy: 0.9783\n",
      "Epoch 44/100\n",
      "18/18 [==============================] - 0s 7ms/step - loss: 0.2870 - accuracy: 0.8964 - val_loss: 0.2209 - val_accuracy: 0.9420\n",
      "Epoch 45/100\n",
      "18/18 [==============================] - 0s 8ms/step - loss: 0.2777 - accuracy: 0.9055 - val_loss: 0.2311 - val_accuracy: 0.9638\n",
      "Epoch 46/100\n",
      "18/18 [==============================] - 0s 7ms/step - loss: 0.3232 - accuracy: 0.8873 - val_loss: 0.3160 - val_accuracy: 0.9058\n",
      "Epoch 47/100\n",
      "18/18 [==============================] - 0s 7ms/step - loss: 0.3139 - accuracy: 0.8927 - val_loss: 0.2488 - val_accuracy: 0.9275\n",
      "Epoch 48/100\n",
      "18/18 [==============================] - 0s 7ms/step - loss: 0.2732 - accuracy: 0.9145 - val_loss: 0.2283 - val_accuracy: 0.9420\n",
      "Epoch 49/100\n",
      "18/18 [==============================] - 0s 7ms/step - loss: 0.2564 - accuracy: 0.9145 - val_loss: 0.2176 - val_accuracy: 0.9348\n",
      "Epoch 50/100\n",
      "18/18 [==============================] - 0s 8ms/step - loss: 0.2664 - accuracy: 0.9145 - val_loss: 0.1972 - val_accuracy: 0.9855\n",
      "Epoch 51/100\n",
      "18/18 [==============================] - 0s 8ms/step - loss: 0.2529 - accuracy: 0.9164 - val_loss: 0.2035 - val_accuracy: 0.9565\n",
      "Epoch 52/100\n",
      "18/18 [==============================] - 0s 7ms/step - loss: 0.2442 - accuracy: 0.9182 - val_loss: 0.2019 - val_accuracy: 0.9783\n",
      "Epoch 53/100\n",
      "18/18 [==============================] - 0s 7ms/step - loss: 0.2926 - accuracy: 0.8927 - val_loss: 0.2636 - val_accuracy: 0.9130\n",
      "Epoch 54/100\n",
      "18/18 [==============================] - 0s 7ms/step - loss: 0.2573 - accuracy: 0.9091 - val_loss: 0.2521 - val_accuracy: 0.9130\n",
      "Epoch 55/100\n",
      "18/18 [==============================] - 0s 7ms/step - loss: 0.2556 - accuracy: 0.9055 - val_loss: 0.2367 - val_accuracy: 0.9130\n",
      "Epoch 56/100\n",
      "18/18 [==============================] - 0s 7ms/step - loss: 0.2553 - accuracy: 0.9255 - val_loss: 0.2009 - val_accuracy: 0.9420\n",
      "Epoch 57/100\n",
      "18/18 [==============================] - 0s 7ms/step - loss: 0.2331 - accuracy: 0.9182 - val_loss: 0.1822 - val_accuracy: 0.9638\n",
      "Epoch 58/100\n",
      "18/18 [==============================] - 0s 10ms/step - loss: 0.2534 - accuracy: 0.9164 - val_loss: 0.1847 - val_accuracy: 0.9855\n",
      "Epoch 59/100\n",
      "18/18 [==============================] - 0s 8ms/step - loss: 0.2069 - accuracy: 0.9382 - val_loss: 0.1802 - val_accuracy: 0.9565\n",
      "Epoch 60/100\n",
      "18/18 [==============================] - 0s 7ms/step - loss: 0.2470 - accuracy: 0.9127 - val_loss: 0.1818 - val_accuracy: 0.9710\n",
      "Epoch 61/100\n",
      "18/18 [==============================] - 0s 7ms/step - loss: 0.3004 - accuracy: 0.8873 - val_loss: 0.2085 - val_accuracy: 0.9130\n",
      "Epoch 62/100\n",
      "18/18 [==============================] - 0s 7ms/step - loss: 0.2521 - accuracy: 0.9145 - val_loss: 0.1933 - val_accuracy: 0.9710\n",
      "Epoch 63/100\n",
      "18/18 [==============================] - 0s 7ms/step - loss: 0.2331 - accuracy: 0.9218 - val_loss: 0.2027 - val_accuracy: 0.9638\n",
      "Epoch 64/100\n",
      "18/18 [==============================] - 0s 7ms/step - loss: 0.2311 - accuracy: 0.9091 - val_loss: 0.1769 - val_accuracy: 0.9783\n",
      "Epoch 65/100\n",
      "18/18 [==============================] - 0s 7ms/step - loss: 0.2274 - accuracy: 0.9182 - val_loss: 0.2051 - val_accuracy: 0.9420\n",
      "Epoch 66/100\n",
      "18/18 [==============================] - 0s 7ms/step - loss: 0.2429 - accuracy: 0.9109 - val_loss: 0.2567 - val_accuracy: 0.8986\n",
      "Epoch 67/100\n",
      "18/18 [==============================] - 0s 7ms/step - loss: 0.2415 - accuracy: 0.9091 - val_loss: 0.1854 - val_accuracy: 0.9565\n",
      "Epoch 68/100\n",
      "18/18 [==============================] - 0s 7ms/step - loss: 0.2387 - accuracy: 0.9164 - val_loss: 0.1670 - val_accuracy: 0.9710\n",
      "Epoch 69/100\n",
      "18/18 [==============================] - 0s 7ms/step - loss: 0.2268 - accuracy: 0.9127 - val_loss: 0.1763 - val_accuracy: 0.9710\n",
      "Epoch 70/100\n",
      "18/18 [==============================] - 0s 7ms/step - loss: 0.2327 - accuracy: 0.9273 - val_loss: 0.1679 - val_accuracy: 0.9638\n",
      "Epoch 71/100\n",
      "18/18 [==============================] - 0s 7ms/step - loss: 0.2489 - accuracy: 0.9127 - val_loss: 0.2204 - val_accuracy: 0.9275\n",
      "Epoch 72/100\n",
      "18/18 [==============================] - 0s 7ms/step - loss: 0.2319 - accuracy: 0.9273 - val_loss: 0.1713 - val_accuracy: 0.9783\n",
      "Epoch 73/100\n",
      "18/18 [==============================] - 0s 7ms/step - loss: 0.2048 - accuracy: 0.9327 - val_loss: 0.1760 - val_accuracy: 0.9275\n",
      "Epoch 74/100\n",
      "18/18 [==============================] - 0s 8ms/step - loss: 0.2720 - accuracy: 0.9182 - val_loss: 0.2064 - val_accuracy: 0.9493\n",
      "Epoch 75/100\n",
      "18/18 [==============================] - 0s 8ms/step - loss: 0.2155 - accuracy: 0.9327 - val_loss: 0.1585 - val_accuracy: 0.9855\n",
      "Epoch 76/100\n",
      "18/18 [==============================] - 0s 7ms/step - loss: 0.2016 - accuracy: 0.9345 - val_loss: 0.1930 - val_accuracy: 0.9348\n",
      "Epoch 77/100\n",
      "18/18 [==============================] - 0s 7ms/step - loss: 0.2155 - accuracy: 0.9345 - val_loss: 0.1739 - val_accuracy: 0.9638\n",
      "Epoch 78/100\n",
      "18/18 [==============================] - 0s 7ms/step - loss: 0.2014 - accuracy: 0.9291 - val_loss: 0.1522 - val_accuracy: 0.9855\n",
      "Epoch 79/100\n",
      "18/18 [==============================] - 0s 7ms/step - loss: 0.2302 - accuracy: 0.9182 - val_loss: 0.1513 - val_accuracy: 0.9783\n",
      "Epoch 80/100\n",
      "18/18 [==============================] - 0s 7ms/step - loss: 0.2321 - accuracy: 0.9255 - val_loss: 0.1892 - val_accuracy: 0.9710\n",
      "Epoch 81/100\n",
      "18/18 [==============================] - 0s 7ms/step - loss: 0.1989 - accuracy: 0.9291 - val_loss: 0.1696 - val_accuracy: 0.9420\n",
      "Epoch 82/100\n",
      "18/18 [==============================] - 0s 8ms/step - loss: 0.2205 - accuracy: 0.9255 - val_loss: 0.1552 - val_accuracy: 0.9710\n",
      "Epoch 83/100\n",
      "18/18 [==============================] - 0s 7ms/step - loss: 0.2014 - accuracy: 0.9364 - val_loss: 0.1687 - val_accuracy: 0.9565\n",
      "Epoch 84/100\n",
      "18/18 [==============================] - 0s 7ms/step - loss: 0.2166 - accuracy: 0.9345 - val_loss: 0.1730 - val_accuracy: 0.9493\n",
      "Epoch 85/100\n",
      "18/18 [==============================] - 0s 7ms/step - loss: 0.2004 - accuracy: 0.9382 - val_loss: 0.1719 - val_accuracy: 0.9783\n",
      "Epoch 86/100\n",
      "18/18 [==============================] - 0s 7ms/step - loss: 0.2258 - accuracy: 0.9109 - val_loss: 0.1634 - val_accuracy: 0.9710\n",
      "Epoch 87/100\n",
      "18/18 [==============================] - 0s 8ms/step - loss: 0.1976 - accuracy: 0.9400 - val_loss: 0.1827 - val_accuracy: 0.9565\n",
      "Epoch 88/100\n",
      "18/18 [==============================] - 0s 7ms/step - loss: 0.2153 - accuracy: 0.9218 - val_loss: 0.1603 - val_accuracy: 0.9855\n",
      "Epoch 89/100\n",
      "18/18 [==============================] - 0s 7ms/step - loss: 0.2349 - accuracy: 0.9091 - val_loss: 0.1638 - val_accuracy: 0.9565\n",
      "Epoch 90/100\n",
      "18/18 [==============================] - 0s 10ms/step - loss: 0.2049 - accuracy: 0.9327 - val_loss: 0.1666 - val_accuracy: 0.9420\n",
      "Epoch 91/100\n",
      "18/18 [==============================] - 0s 7ms/step - loss: 0.1910 - accuracy: 0.9418 - val_loss: 0.2242 - val_accuracy: 0.8986\n",
      "Epoch 92/100\n",
      "18/18 [==============================] - 0s 7ms/step - loss: 0.2255 - accuracy: 0.9182 - val_loss: 0.1613 - val_accuracy: 0.9783\n",
      "Epoch 93/100\n",
      "18/18 [==============================] - 0s 7ms/step - loss: 0.2584 - accuracy: 0.9127 - val_loss: 0.2730 - val_accuracy: 0.8696\n",
      "Epoch 94/100\n",
      "18/18 [==============================] - 0s 7ms/step - loss: 0.2264 - accuracy: 0.9127 - val_loss: 0.1640 - val_accuracy: 0.9493\n",
      "Epoch 95/100\n",
      "18/18 [==============================] - 0s 7ms/step - loss: 0.2024 - accuracy: 0.9382 - val_loss: 0.2224 - val_accuracy: 0.9058\n",
      "Epoch 96/100\n",
      "18/18 [==============================] - 0s 8ms/step - loss: 0.2317 - accuracy: 0.9036 - val_loss: 0.1468 - val_accuracy: 0.9783\n",
      "Epoch 97/100\n",
      "18/18 [==============================] - 0s 7ms/step - loss: 0.2320 - accuracy: 0.9200 - val_loss: 0.1709 - val_accuracy: 0.9565\n",
      "Epoch 98/100\n",
      "18/18 [==============================] - 0s 7ms/step - loss: 0.2244 - accuracy: 0.9182 - val_loss: 0.2114 - val_accuracy: 0.9058\n",
      "Epoch 99/100\n",
      "18/18 [==============================] - 0s 7ms/step - loss: 0.2130 - accuracy: 0.9218 - val_loss: 0.1618 - val_accuracy: 0.9420\n",
      "Epoch 100/100\n",
      "18/18 [==============================] - 0s 7ms/step - loss: 0.1974 - accuracy: 0.9255 - val_loss: 0.1970 - val_accuracy: 0.9130\n"
     ]
    }
   ],
   "source": [
    "history = model.fit(\n",
    "    x = X_train,\n",
    "    y = y_train,\n",
    "    validation_split=0.2,\n",
    "    epochs = 100,\n",
    "    batch_size = 32\n",
    ")"
   ]
  },
  {
   "cell_type": "markdown",
   "metadata": {},
   "source": [
    "##### **Evaluating & Printing Accuracy**"
   ]
  },
  {
   "cell_type": "code",
   "execution_count": 183,
   "metadata": {},
   "outputs": [
    {
     "name": "stdout",
     "output_type": "stream",
     "text": [
      "6/6 [==============================] - 0s 4ms/step - loss: 0.2313 - accuracy: 0.8844\n",
      "Test Loss: 0.23129986226558685\n",
      "Test Accuracy: 0.884393036365509\n"
     ]
    }
   ],
   "source": [
    "# Evaluate the model on the test dataset\n",
    "loss, accuracy = model.evaluate(X_test, y_test)\n",
    "\n",
    "print(\"Test Loss:\", loss)\n",
    "print(\"Test Accuracy:\", accuracy)"
   ]
  },
  {
   "cell_type": "markdown",
   "metadata": {},
   "source": [
    "##### **Testing & Predicting Mood For A New Song**"
   ]
  },
  {
   "cell_type": "code",
   "execution_count": 206,
   "metadata": {},
   "outputs": [
    {
     "name": "stdout",
     "output_type": "stream",
     "text": [
      "Available Audio Devices:\n",
      "0: Microsoft Sound Mapper - Input\n",
      "1: Headset Microphone (Realtek(R) \n",
      "2: Microphone Array (Realtek(R) Au\n",
      "3: Microsoft Sound Mapper - Output\n",
      "4: Speaker (Realtek(R) Audio)\n",
      "5: Headphone (Realtek(R) Audio)\n",
      "6: ASUS VE278 (Intel(R) Display Au\n",
      "7: Primary Sound Capture Driver\n",
      "8: Headset Microphone (Realtek(R) Audio)\n",
      "9: Microphone Array (Realtek(R) Audio)\n",
      "10: Primary Sound Driver\n",
      "11: Speaker (Realtek(R) Audio)\n",
      "12: Headphone (Realtek(R) Audio)\n",
      "13: ASUS VE278 (Intel(R) Display Audio)\n",
      "14: Speaker (Realtek(R) Audio)\n",
      "15: Headphone (Realtek(R) Audio)\n",
      "16: ASUS VE278 (Intel(R) Display Audio)\n",
      "17: Headset Microphone (Realtek(R) Audio)\n",
      "18: Microphone Array (Realtek(R) Audio)\n",
      "19: Headphones 1 (Realtek HD Audio 2nd output with SST)\n",
      "20: Headphones 2 (Realtek HD Audio 2nd output with SST)\n",
      "21: PC Speaker (Realtek HD Audio 2nd output with SST)\n",
      "22: Mic in at front panel (black) (Mic in at front panel (black))\n",
      "23: Microphone Array 1 (Realtek HD Audio Mic input with SST)\n",
      "24: Microphone Array 2 (Realtek HD Audio Mic input with SST)\n",
      "25: Microphone Array 3 (Realtek HD Audio Mic input with SST)\n",
      "26: Speakers 1 (Realtek HD Audio output with SST)\n",
      "27: Speakers 2 (Realtek HD Audio output with SST)\n",
      "28: PC Speaker (Realtek HD Audio output with SST)\n",
      "29: Output (Intel(R) Display Audio Output 2.1)\n"
     ]
    }
   ],
   "source": [
    "# checking the audio devices\n",
    "p = pyaudio.PyAudio()\n",
    "print(\"Available Audio Devices:\")\n",
    "for i in range(p.get_device_count()):\n",
    "    info = p.get_device_info_by_index(i)\n",
    "    print(f\"{i}: {info['name']}\")"
   ]
  },
  {
   "cell_type": "code",
   "execution_count": 209,
   "metadata": {},
   "outputs": [
    {
     "name": "stdout",
     "output_type": "stream",
     "text": [
      "Recording...\n",
      "Recording complete!\n",
      "Saved audio as file_name.mp3\n"
     ]
    }
   ],
   "source": [
    "import pyaudio\n",
    "import wave\n",
    "from pydub import AudioSegment\n",
    "from pydub.playback import play\n",
    "import noisereduce as nr\n",
    "\n",
    "# Set the recording parameters\n",
    "FORMAT = pyaudio.paInt16\n",
    "CHANNELS = 1\n",
    "RATE = 44100\n",
    "CHUNK = 1024\n",
    "RECORD_SECONDS = 20\n",
    "OUTPUT_FILENAME = 'file_name.mp3'\n",
    "\n",
    "# Initialize the audio stream\n",
    "p = pyaudio.PyAudio()\n",
    "\n",
    "print(\"Recording...\")\n",
    "\n",
    "# Start recording\n",
    "stream = p.open(format=FORMAT,\n",
    "                channels=CHANNELS,\n",
    "                rate=RATE,\n",
    "                input=True,\n",
    "                frames_per_buffer=CHUNK,\n",
    "                input_device_index=2)\n",
    "\n",
    "frames = []\n",
    "\n",
    "for _ in range(0, int(RATE / CHUNK * RECORD_SECONDS)):\n",
    "    data = stream.read(CHUNK)\n",
    "    frames.append(data)\n",
    "\n",
    "print(\"Recording complete!\")\n",
    "\n",
    "# Stop recording and close the stream\n",
    "stream.stop_stream()\n",
    "stream.close()\n",
    "p.terminate()\n",
    "\n",
    "# Save the recorded audio as an MP3 file\n",
    "audio = AudioSegment(\n",
    "    b''.join(frames),\n",
    "    frame_rate=RATE,\n",
    "    sample_width=p.get_sample_size(FORMAT),\n",
    "    channels=CHANNELS\n",
    ")\n",
    "audio.export(OUTPUT_FILENAME, format=\"mp3\")\n",
    "\n",
    "print(f\"Saved audio as {OUTPUT_FILENAME}\")"
   ]
  },
  {
   "cell_type": "code",
   "execution_count": 210,
   "metadata": {},
   "outputs": [],
   "source": [
    "import asyncio\n",
    "from shazamio import Shazam\n",
    "\n",
    "async def main():\n",
    "  shazam = Shazam()\n",
    "  out = await shazam.recognize_song(r'C:\\Users\\14089\\Desktop\\NILAY JAIN\\Personal Projects\\Play_Song_By_Mood\\file_name.mp3')\n",
    "\n",
    "  if 'track' in out:\n",
    "    track_info = out['track']\n",
    "    if 'title' in track_info:\n",
    "      title = track_info['title']\n",
    "      return title\n",
    "  else:\n",
    "    title = \"No song detected!\"\n",
    "    return title\n",
    "\n",
    "loop = asyncio.get_event_loop()\n",
    "title = loop.run_until_complete(main())"
   ]
  },
  {
   "cell_type": "code",
   "execution_count": 211,
   "metadata": {},
   "outputs": [],
   "source": [
    "import testing\n",
    "import spotipy\n",
    "from spotipy.oauth2 import SpotifyClientCredentials\n",
    "\n",
    "# getting the song file name\n",
    "# test_file_path = r'C:\\Users\\14089\\Desktop\\NILAY JAIN\\Personal Projects\\Play_Song_By_Mood'\n",
    "# test_file_name = os.listdir(test_file_path)\n",
    "file_name = title\n",
    "try:\n",
    "    file_name = file_name[:file_name.index('(')].strip()\n",
    "except:\n",
    "    pass\n",
    "\n",
    "# Replace 'YOUR_CLIENT_ID' and 'YOUR_CLIENT_SECRET' with your Spotify API credentials\n",
    "client_id = '5e72cefadf2242f185811400e85ae9cf'\n",
    "client_secret = '7353a65633624c60996996693beba8e5'\n",
    "\n",
    "# Create a Spotipy client with credentials\n",
    "client_credentials_manager = SpotifyClientCredentials(client_id=client_id, client_secret=client_secret)\n",
    "sp = spotipy.Spotify(client_credentials_manager=client_credentials_manager)"
   ]
  },
  {
   "cell_type": "code",
   "execution_count": 212,
   "metadata": {},
   "outputs": [
    {
     "name": "stdout",
     "output_type": "stream",
     "text": [
      "No song detected!\n"
     ]
    }
   ],
   "source": [
    "print(file_name)"
   ]
  },
  {
   "cell_type": "code",
   "execution_count": 199,
   "metadata": {},
   "outputs": [
    {
     "data": {
      "text/plain": [
       "{'tracks': {'href': 'https://api.spotify.com/v1/search?query=track%3A%22%7B%27Dance+Monkey%27%7D%22&type=track&offset=0&limit=1',\n",
       "  'items': [{'album': {'album_type': 'single',\n",
       "     'artists': [{'external_urls': {'spotify': 'https://open.spotify.com/artist/2NjfBq1NflQcKSeiDooVjY'},\n",
       "       'href': 'https://api.spotify.com/v1/artists/2NjfBq1NflQcKSeiDooVjY',\n",
       "       'id': '2NjfBq1NflQcKSeiDooVjY',\n",
       "       'name': 'Tones And I',\n",
       "       'type': 'artist',\n",
       "       'uri': 'spotify:artist:2NjfBq1NflQcKSeiDooVjY'}],\n",
       "     'available_markets': ['AD',\n",
       "      'AE',\n",
       "      'AG',\n",
       "      'AL',\n",
       "      'AM',\n",
       "      'AO',\n",
       "      'AR',\n",
       "      'AT',\n",
       "      'AZ',\n",
       "      'BA',\n",
       "      'BB',\n",
       "      'BD',\n",
       "      'BE',\n",
       "      'BF',\n",
       "      'BG',\n",
       "      'BH',\n",
       "      'BI',\n",
       "      'BJ',\n",
       "      'BN',\n",
       "      'BO',\n",
       "      'BR',\n",
       "      'BS',\n",
       "      'BT',\n",
       "      'BW',\n",
       "      'BY',\n",
       "      'BZ',\n",
       "      'CA',\n",
       "      'CD',\n",
       "      'CG',\n",
       "      'CH',\n",
       "      'CI',\n",
       "      'CL',\n",
       "      'CM',\n",
       "      'CO',\n",
       "      'CR',\n",
       "      'CV',\n",
       "      'CW',\n",
       "      'CY',\n",
       "      'CZ',\n",
       "      'DE',\n",
       "      'DJ',\n",
       "      'DK',\n",
       "      'DM',\n",
       "      'DO',\n",
       "      'DZ',\n",
       "      'EC',\n",
       "      'EE',\n",
       "      'EG',\n",
       "      'ES',\n",
       "      'ET',\n",
       "      'FI',\n",
       "      'FJ',\n",
       "      'FM',\n",
       "      'FR',\n",
       "      'GA',\n",
       "      'GB',\n",
       "      'GD',\n",
       "      'GE',\n",
       "      'GH',\n",
       "      'GM',\n",
       "      'GN',\n",
       "      'GQ',\n",
       "      'GR',\n",
       "      'GT',\n",
       "      'GW',\n",
       "      'GY',\n",
       "      'HK',\n",
       "      'HN',\n",
       "      'HR',\n",
       "      'HT',\n",
       "      'HU',\n",
       "      'ID',\n",
       "      'IE',\n",
       "      'IL',\n",
       "      'IN',\n",
       "      'IQ',\n",
       "      'IS',\n",
       "      'IT',\n",
       "      'JM',\n",
       "      'JO',\n",
       "      'JP',\n",
       "      'KE',\n",
       "      'KG',\n",
       "      'KH',\n",
       "      'KI',\n",
       "      'KM',\n",
       "      'KN',\n",
       "      'KR',\n",
       "      'KW',\n",
       "      'KZ',\n",
       "      'LA',\n",
       "      'LB',\n",
       "      'LC',\n",
       "      'LI',\n",
       "      'LK',\n",
       "      'LR',\n",
       "      'LS',\n",
       "      'LT',\n",
       "      'LU',\n",
       "      'LV',\n",
       "      'LY',\n",
       "      'MA',\n",
       "      'MC',\n",
       "      'MD',\n",
       "      'ME',\n",
       "      'MG',\n",
       "      'MH',\n",
       "      'MK',\n",
       "      'ML',\n",
       "      'MN',\n",
       "      'MO',\n",
       "      'MR',\n",
       "      'MT',\n",
       "      'MU',\n",
       "      'MV',\n",
       "      'MW',\n",
       "      'MX',\n",
       "      'MY',\n",
       "      'MZ',\n",
       "      'NA',\n",
       "      'NE',\n",
       "      'NG',\n",
       "      'NI',\n",
       "      'NL',\n",
       "      'NO',\n",
       "      'NP',\n",
       "      'NR',\n",
       "      'OM',\n",
       "      'PA',\n",
       "      'PE',\n",
       "      'PG',\n",
       "      'PH',\n",
       "      'PK',\n",
       "      'PL',\n",
       "      'PS',\n",
       "      'PT',\n",
       "      'PW',\n",
       "      'PY',\n",
       "      'QA',\n",
       "      'RO',\n",
       "      'RS',\n",
       "      'RW',\n",
       "      'SA',\n",
       "      'SB',\n",
       "      'SC',\n",
       "      'SE',\n",
       "      'SG',\n",
       "      'SI',\n",
       "      'SK',\n",
       "      'SL',\n",
       "      'SM',\n",
       "      'SN',\n",
       "      'SR',\n",
       "      'ST',\n",
       "      'SV',\n",
       "      'SZ',\n",
       "      'TD',\n",
       "      'TG',\n",
       "      'TH',\n",
       "      'TJ',\n",
       "      'TL',\n",
       "      'TN',\n",
       "      'TO',\n",
       "      'TR',\n",
       "      'TT',\n",
       "      'TV',\n",
       "      'TW',\n",
       "      'TZ',\n",
       "      'UA',\n",
       "      'UG',\n",
       "      'US',\n",
       "      'UY',\n",
       "      'UZ',\n",
       "      'VC',\n",
       "      'VE',\n",
       "      'VN',\n",
       "      'VU',\n",
       "      'WS',\n",
       "      'XK',\n",
       "      'ZA',\n",
       "      'ZM',\n",
       "      'ZW'],\n",
       "     'external_urls': {'spotify': 'https://open.spotify.com/album/0UywfDKYlyiu1b38DRrzYD'},\n",
       "     'href': 'https://api.spotify.com/v1/albums/0UywfDKYlyiu1b38DRrzYD',\n",
       "     'id': '0UywfDKYlyiu1b38DRrzYD',\n",
       "     'images': [{'height': 640,\n",
       "       'url': 'https://i.scdn.co/image/ab67616d0000b273c6f7af36ecdc3ed6e0a1f169',\n",
       "       'width': 640},\n",
       "      {'height': 300,\n",
       "       'url': 'https://i.scdn.co/image/ab67616d00001e02c6f7af36ecdc3ed6e0a1f169',\n",
       "       'width': 300},\n",
       "      {'height': 64,\n",
       "       'url': 'https://i.scdn.co/image/ab67616d00004851c6f7af36ecdc3ed6e0a1f169',\n",
       "       'width': 64}],\n",
       "     'name': 'Dance Monkey (Stripped Back) / Dance Monkey',\n",
       "     'release_date': '2019-10-17',\n",
       "     'release_date_precision': 'day',\n",
       "     'total_tracks': 2,\n",
       "     'type': 'album',\n",
       "     'uri': 'spotify:album:0UywfDKYlyiu1b38DRrzYD'},\n",
       "    'artists': [{'external_urls': {'spotify': 'https://open.spotify.com/artist/2NjfBq1NflQcKSeiDooVjY'},\n",
       "      'href': 'https://api.spotify.com/v1/artists/2NjfBq1NflQcKSeiDooVjY',\n",
       "      'id': '2NjfBq1NflQcKSeiDooVjY',\n",
       "      'name': 'Tones And I',\n",
       "      'type': 'artist',\n",
       "      'uri': 'spotify:artist:2NjfBq1NflQcKSeiDooVjY'}],\n",
       "    'available_markets': ['AR',\n",
       "     'AT',\n",
       "     'BE',\n",
       "     'BO',\n",
       "     'BR',\n",
       "     'BG',\n",
       "     'CA',\n",
       "     'CL',\n",
       "     'CO',\n",
       "     'CR',\n",
       "     'CY',\n",
       "     'CZ',\n",
       "     'DK',\n",
       "     'DO',\n",
       "     'DE',\n",
       "     'EC',\n",
       "     'EE',\n",
       "     'SV',\n",
       "     'FI',\n",
       "     'FR',\n",
       "     'GR',\n",
       "     'GT',\n",
       "     'HN',\n",
       "     'HK',\n",
       "     'HU',\n",
       "     'IS',\n",
       "     'IE',\n",
       "     'IT',\n",
       "     'LV',\n",
       "     'LT',\n",
       "     'LU',\n",
       "     'MY',\n",
       "     'MT',\n",
       "     'MX',\n",
       "     'NL',\n",
       "     'NI',\n",
       "     'NO',\n",
       "     'PA',\n",
       "     'PY',\n",
       "     'PE',\n",
       "     'PH',\n",
       "     'PL',\n",
       "     'PT',\n",
       "     'SG',\n",
       "     'SK',\n",
       "     'ES',\n",
       "     'SE',\n",
       "     'CH',\n",
       "     'TW',\n",
       "     'TR',\n",
       "     'UY',\n",
       "     'US',\n",
       "     'GB',\n",
       "     'AD',\n",
       "     'LI',\n",
       "     'MC',\n",
       "     'ID',\n",
       "     'JP',\n",
       "     'TH',\n",
       "     'VN',\n",
       "     'RO',\n",
       "     'IL',\n",
       "     'ZA',\n",
       "     'SA',\n",
       "     'AE',\n",
       "     'BH',\n",
       "     'QA',\n",
       "     'OM',\n",
       "     'KW',\n",
       "     'EG',\n",
       "     'MA',\n",
       "     'DZ',\n",
       "     'TN',\n",
       "     'LB',\n",
       "     'JO',\n",
       "     'PS',\n",
       "     'IN',\n",
       "     'BY',\n",
       "     'KZ',\n",
       "     'MD',\n",
       "     'UA',\n",
       "     'AL',\n",
       "     'BA',\n",
       "     'HR',\n",
       "     'ME',\n",
       "     'MK',\n",
       "     'RS',\n",
       "     'SI',\n",
       "     'KR',\n",
       "     'BD',\n",
       "     'PK',\n",
       "     'LK',\n",
       "     'GH',\n",
       "     'KE',\n",
       "     'NG',\n",
       "     'TZ',\n",
       "     'UG',\n",
       "     'AG',\n",
       "     'AM',\n",
       "     'BS',\n",
       "     'BB',\n",
       "     'BZ',\n",
       "     'BT',\n",
       "     'BW',\n",
       "     'BF',\n",
       "     'CV',\n",
       "     'CW',\n",
       "     'DM',\n",
       "     'FJ',\n",
       "     'GM',\n",
       "     'GE',\n",
       "     'GD',\n",
       "     'GW',\n",
       "     'GY',\n",
       "     'HT',\n",
       "     'JM',\n",
       "     'KI',\n",
       "     'LS',\n",
       "     'LR',\n",
       "     'MW',\n",
       "     'MV',\n",
       "     'ML',\n",
       "     'MH',\n",
       "     'FM',\n",
       "     'NA',\n",
       "     'NR',\n",
       "     'NE',\n",
       "     'PW',\n",
       "     'PG',\n",
       "     'WS',\n",
       "     'SM',\n",
       "     'ST',\n",
       "     'SN',\n",
       "     'SC',\n",
       "     'SL',\n",
       "     'SB',\n",
       "     'KN',\n",
       "     'LC',\n",
       "     'VC',\n",
       "     'SR',\n",
       "     'TL',\n",
       "     'TO',\n",
       "     'TT',\n",
       "     'TV',\n",
       "     'VU',\n",
       "     'AZ',\n",
       "     'BN',\n",
       "     'BI',\n",
       "     'KH',\n",
       "     'CM',\n",
       "     'TD',\n",
       "     'KM',\n",
       "     'GQ',\n",
       "     'SZ',\n",
       "     'GA',\n",
       "     'GN',\n",
       "     'KG',\n",
       "     'LA',\n",
       "     'MO',\n",
       "     'MR',\n",
       "     'MN',\n",
       "     'NP',\n",
       "     'RW',\n",
       "     'TG',\n",
       "     'UZ',\n",
       "     'ZW',\n",
       "     'BJ',\n",
       "     'MG',\n",
       "     'MU',\n",
       "     'MZ',\n",
       "     'AO',\n",
       "     'CI',\n",
       "     'DJ',\n",
       "     'ZM',\n",
       "     'CD',\n",
       "     'CG',\n",
       "     'IQ',\n",
       "     'LY',\n",
       "     'TJ',\n",
       "     'VE',\n",
       "     'ET',\n",
       "     'XK'],\n",
       "    'disc_number': 1,\n",
       "    'duration_ms': 209438,\n",
       "    'explicit': False,\n",
       "    'external_ids': {'isrc': 'QZES71982312'},\n",
       "    'external_urls': {'spotify': 'https://open.spotify.com/track/2XU0oxnq2qxCpomAAuJY8K'},\n",
       "    'href': 'https://api.spotify.com/v1/tracks/2XU0oxnq2qxCpomAAuJY8K',\n",
       "    'id': '2XU0oxnq2qxCpomAAuJY8K',\n",
       "    'is_local': False,\n",
       "    'name': 'Dance Monkey',\n",
       "    'popularity': 79,\n",
       "    'preview_url': 'https://p.scdn.co/mp3-preview/d03d7e46e89547f5a1994483f27e221c8de1f5c5?cid=5e72cefadf2242f185811400e85ae9cf',\n",
       "    'track_number': 2,\n",
       "    'type': 'track',\n",
       "    'uri': 'spotify:track:2XU0oxnq2qxCpomAAuJY8K'}],\n",
       "  'limit': 1,\n",
       "  'next': 'https://api.spotify.com/v1/search?query=track%3A%22%7B%27Dance+Monkey%27%7D%22&type=track&offset=1&limit=1',\n",
       "  'offset': 0,\n",
       "  'previous': None,\n",
       "  'total': 1000}}"
      ]
     },
     "execution_count": 199,
     "metadata": {},
     "output_type": "execute_result"
    }
   ],
   "source": [
    "results = sp.search(q='track:\"{}\"'.format({file_name}), type='track', limit=1)\n",
    "results"
   ]
  },
  {
   "cell_type": "code",
   "execution_count": 200,
   "metadata": {},
   "outputs": [],
   "source": [
    "# Check if there are search results\n",
    "if results['tracks']['total'] > 0:\n",
    "    track_id_test = results['tracks']['items'][0]['id']\n",
    "    track_features_test = sp.audio_features(track_id_test)\n",
    "\n",
    "    danceability_test = track_features_test[0]['danceability']\n",
    "    energy_test = track_features_test[0]['energy']\n",
    "    loudness_test = track_features_test[0]['loudness'] / min_loudness\n",
    "    speechiness_test = track_features_test[0]['speechiness']\n",
    "    acousticness_test = track_features_test[0]['acousticness']\n",
    "    liveness_test = track_features_test[0]['liveness']\n",
    "    valence_test = track_features_test[0]['valence']\n",
    "    tempo_test = track_features_test[0]['tempo'] / max_tempo"
   ]
  },
  {
   "cell_type": "code",
   "execution_count": 201,
   "metadata": {},
   "outputs": [
    {
     "data": {
      "text/plain": [
       "[0.824,\n",
       " 0.692,\n",
       " 0.588,\n",
       " 0.149,\n",
       " 0.513,\n",
       " 0.15231567423485173,\n",
       " 0.0924,\n",
       " 0.44976829548061487]"
      ]
     },
     "execution_count": 201,
     "metadata": {},
     "output_type": "execute_result"
    }
   ],
   "source": [
    "[danceability_test, acousticness_test, energy_test, liveness_test, valence_test, loudness_test, speechiness_test, tempo_test]"
   ]
  },
  {
   "cell_type": "code",
   "execution_count": 202,
   "metadata": {},
   "outputs": [
    {
     "data": {
      "text/plain": [
       "'2XU0oxnq2qxCpomAAuJY8K'"
      ]
     },
     "execution_count": 202,
     "metadata": {},
     "output_type": "execute_result"
    }
   ],
   "source": [
    "track_id_test"
   ]
  },
  {
   "cell_type": "code",
   "execution_count": 203,
   "metadata": {},
   "outputs": [
    {
     "data": {
      "text/plain": [
       "(1, 8)"
      ]
     },
     "execution_count": 203,
     "metadata": {},
     "output_type": "execute_result"
    }
   ],
   "source": [
    "sample_X_test = np.array([[danceability_test, acousticness_test, energy_test, liveness_test, valence_test, loudness_test, speechiness_test, tempo_test]])\n",
    "sample_X_test.shape"
   ]
  },
  {
   "cell_type": "code",
   "execution_count": 204,
   "metadata": {},
   "outputs": [
    {
     "name": "stdout",
     "output_type": "stream",
     "text": [
      "1/1 [==============================] - 0s 105ms/step\n",
      "Predicted Classes: Pop Chill\n"
     ]
    }
   ],
   "source": [
    "# Reverse mapping dictionary\n",
    "reverse_mapping = {0: 'Pop Chill', 1: 'Chill', 2: 'Lofi', 3: 'Hard Rock'}\n",
    "\n",
    "# Make predictions on new data\n",
    "predictions = model.predict(sample_X_test)\n",
    "\n",
    "# If you have a classification task and you want to get the class labels instead of probabilities\n",
    "# Get the class labels with the highest probability for each prediction\n",
    "predicted_classes = predictions.argmax(axis=1)\n",
    "\n",
    "# If you have a regression task, you can directly use the predictions as they are continuous values\n",
    "\n",
    "# Print the predicted classes (if applicable)\n",
    "print(\"Predicted Classes:\", reverse_mapping[predicted_classes[0]])"
   ]
  },
  {
   "cell_type": "markdown",
   "metadata": {},
   "source": [
    "#### **Random Forest Classifier**"
   ]
  },
  {
   "cell_type": "code",
   "execution_count": null,
   "metadata": {},
   "outputs": [],
   "source": [
    "from sklearn.ensemble import RandomForestClassifier\n",
    "\n",
    "model_rfc = RandomForestClassifier()\n",
    "model_rfc.fit(X_train, y_train)"
   ]
  },
  {
   "cell_type": "code",
   "execution_count": null,
   "metadata": {},
   "outputs": [],
   "source": [
    "predictions = model_rfc.predict(X_test)\n",
    "accuracy = accuracy_score(predictions, y_test)"
   ]
  },
  {
   "cell_type": "code",
   "execution_count": null,
   "metadata": {},
   "outputs": [],
   "source": [
    "predictions"
   ]
  },
  {
   "cell_type": "code",
   "execution_count": null,
   "metadata": {},
   "outputs": [],
   "source": [
    "accuracy"
   ]
  },
  {
   "cell_type": "markdown",
   "metadata": {},
   "source": [
    "#### **Decision Tree Classifier**"
   ]
  },
  {
   "cell_type": "code",
   "execution_count": null,
   "metadata": {},
   "outputs": [],
   "source": [
    "from sklearn.tree import DecisionTreeClassifier\n",
    "\n",
    "model_dtc = DecisionTreeClassifier()\n",
    "model_dtc.fit(X_train, y_train)"
   ]
  },
  {
   "cell_type": "code",
   "execution_count": null,
   "metadata": {},
   "outputs": [],
   "source": [
    "predictions = model_dtc.predict(X_test)\n",
    "accuracy = accuracy_score(predictions, y_test)"
   ]
  },
  {
   "cell_type": "code",
   "execution_count": null,
   "metadata": {},
   "outputs": [],
   "source": [
    "predictions"
   ]
  },
  {
   "cell_type": "code",
   "execution_count": null,
   "metadata": {},
   "outputs": [],
   "source": [
    "accuracy"
   ]
  },
  {
   "cell_type": "markdown",
   "metadata": {},
   "source": [
    "#### **K-Nearest Neighbour**"
   ]
  },
  {
   "cell_type": "code",
   "execution_count": null,
   "metadata": {},
   "outputs": [],
   "source": [
    "from sklearn.neighbors import KNeighborsClassifier\n",
    "\n",
    "model_knn = KNeighborsClassifier()\n",
    "model_knn.fit(X_train, y_train)"
   ]
  },
  {
   "cell_type": "code",
   "execution_count": null,
   "metadata": {},
   "outputs": [],
   "source": [
    "predictions = model_knn.predict(X_test)\n",
    "accuracy = accuracy_score(predictions, y_test)"
   ]
  },
  {
   "cell_type": "code",
   "execution_count": null,
   "metadata": {},
   "outputs": [],
   "source": [
    "predictions"
   ]
  },
  {
   "cell_type": "code",
   "execution_count": null,
   "metadata": {},
   "outputs": [],
   "source": [
    "accuracy"
   ]
  },
  {
   "cell_type": "markdown",
   "metadata": {},
   "source": [
    "### **Saving The Model For Future Use**"
   ]
  },
  {
   "cell_type": "markdown",
   "metadata": {},
   "source": [
    "### **Checking The Results**"
   ]
  },
  {
   "cell_type": "code",
   "execution_count": null,
   "metadata": {},
   "outputs": [],
   "source": []
  }
 ],
 "metadata": {
  "kernelspec": {
   "display_name": "base",
   "language": "python",
   "name": "python3"
  },
  "language_info": {
   "codemirror_mode": {
    "name": "ipython",
    "version": 3
   },
   "file_extension": ".py",
   "mimetype": "text/x-python",
   "name": "python",
   "nbconvert_exporter": "python",
   "pygments_lexer": "ipython3",
   "version": "3.10.9"
  },
  "orig_nbformat": 4
 },
 "nbformat": 4,
 "nbformat_minor": 2
}
