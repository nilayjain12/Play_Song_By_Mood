{
 "cells": [
  {
   "cell_type": "code",
   "execution_count": 40,
   "metadata": {},
   "outputs": [],
   "source": [
    "import asyncio\n",
    "from shazamio import Shazam\n",
    "from shazamio import Serialize"
   ]
  },
  {
   "cell_type": "code",
   "execution_count": 42,
   "metadata": {},
   "outputs": [
    {
     "data": {
      "text/plain": [
       "<coroutine object main at 0x000001FDFE7980B0>"
      ]
     },
     "execution_count": 42,
     "metadata": {},
     "output_type": "execute_result"
    }
   ],
   "source": [
    "async def main():\n",
    "    shazam = Shazam()\n",
    "    out = await shazam.recognize_song(r'C:\\Users\\14089\\Desktop\\NILAY JAIN\\Personal Projects\\PlaySongByMood\\SongsList\\DownloadedSongs\\01%20-%20Dhappa%20(320%20Kbps).mp3')\n",
    "\n",
    "    song_id = out['matches']\n",
    "    if len(song_id) == 0:\n",
    "        data_song = {\"track_title\": \"Sorry No Song Detected!\"}\n",
    "        print(data_song)\n",
    "    else:\n",
    "        song_id = out['matches'][0]['id']\n",
    "        about_track = await shazam.track_about(track_id=song_id)\n",
    "        serialized = Serialize.track(data=about_track)\n",
    "\n",
    "        print(song_id)\n",
    "        print(about_track)\n",
    "        print(serialized)\n",
    "\n",
    "main()"
   ]
  }
 ],
 "metadata": {
  "kernelspec": {
   "display_name": "base",
   "language": "python",
   "name": "python3"
  },
  "language_info": {
   "codemirror_mode": {
    "name": "ipython",
    "version": 3
   },
   "file_extension": ".py",
   "mimetype": "text/x-python",
   "name": "python",
   "nbconvert_exporter": "python",
   "pygments_lexer": "ipython3",
   "version": "3.10.9"
  },
  "orig_nbformat": 4
 },
 "nbformat": 4,
 "nbformat_minor": 2
}
